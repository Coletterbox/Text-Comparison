{
 "cells": [
  {
   "cell_type": "code",
   "execution_count": 49,
   "id": "7b81984d",
   "metadata": {},
   "outputs": [],
   "source": [
    "import matplotlib.pyplot as plt\n",
    "import numpy as np"
   ]
  },
  {
   "cell_type": "markdown",
   "id": "2be8ab5b",
   "metadata": {},
   "source": [
    "# Here is a text comparison of two pieces of literature."
   ]
  },
  {
   "cell_type": "markdown",
   "id": "0700458c",
   "metadata": {},
   "source": [
    "### Here's the first one."
   ]
  },
  {
   "cell_type": "code",
   "execution_count": 17,
   "id": "4e5c4e8a",
   "metadata": {},
   "outputs": [
    {
     "name": "stdout",
     "output_type": "stream",
     "text": [
      "Functional impairments in cognition are frequently thought to be a feature of individuals with depression or anxiety. However, documented impairments are both broad and inconsistent, with little known about when they emerge, whether they are causes or effects of affective symptoms, or whether specific cognitive systems are implicated. Here, we show, in the adolescent ABCD cohort (N = 11,876), that attention dysregulation is a robust factor underlying wide-ranging cognitive task impairments seen in adolescents with moderate to severe anxiety or low mood. We stratified individuals high in DSM-oriented depression or anxiety symptomology, and low in attention deficit hyperactivity disorder (ADHD), as well as vice versa – demonstrating that those high in depression or anxiety dimensions but low in ADHD symptoms not only exhibited normal task performance across several commonly studied cognitive paradigms, but out-performed controls in several domains, as well as in those low in both dimensions. Similarly, we showed that there were no associations between psychopathological dimensions and performance on an extensive cognitive battery after controlling for attention dysregulation. Further, corroborating previous research, the co-occurrence of attention dysregulation was associated with a wide range of other adverse outcomes, psychopathological features, and executive functioning (EF) impairments. To assess how attention dysregulation relates to and generates diverse psychopathology, we performed confirmatory and exploratory network analysis with different analytic approaches using Gaussian Graphical Models and Directed Acyclic Graphs to examine interactions between ADHD, anxiety, low mood, oppositional defiant disorder (ODD), social relationships, and cognition. Confirmatory centrality analysis indicated that features of attention dysregulation were indeed central and robustly connected to a wide range of psychopathological traits across different categories, scales, and time points. Exploratory network analysis indicated potentially important bridging traits and socioenvironmental influences in the relationships between ADHD symptoms and mood/anxiety disorders. Trait perfectionism was uniquely associated with both better cognitive performance and broad psychopathological dimensions. This work suggests that attentional dysregulation may moderate the breadth of EF, fluid, and crystalized cognitive task outcomes seen in adolescents with anxiety and low mood, and may be central to disparate pathological features, and thus a target for attenuating wide-ranging negative developmental outcomes.\n"
     ]
    }
   ],
   "source": [
    "paper = open(\"text1.txt\", \"r\", encoding='utf8')\n",
    "print(paper.read())"
   ]
  },
  {
   "cell_type": "code",
   "execution_count": 13,
   "id": "7351a6d8",
   "metadata": {},
   "outputs": [],
   "source": [
    "paper.close()"
   ]
  },
  {
   "cell_type": "markdown",
   "id": "9d211bc1",
   "metadata": {},
   "source": [
    "### Does it sound familiar? Yes probably!\n",
    "\n",
    "### You guessed it; that's because it borrows heavily from the 2006 Harry Potter fanfic \"My Immortal\"!"
   ]
  },
  {
   "cell_type": "code",
   "execution_count": 33,
   "id": "977affd0",
   "metadata": {},
   "outputs": [
    {
     "name": "stdout",
     "output_type": "stream",
     "text": [
      "AN: Special fangz (get it, coz Im goffik) 2 my gf (ew not in that way) raven, bloodytearz666 4 helpin me wif da story and spelling. U rok! Justin ur da luv of my deprzzing life u rok 2! MCR ROX!\n",
      "\n",
      "Hi my name is Ebony Dark'ness Dementia Raven Way and I have long ebony black hair (that's how I got my name) with purple streaks and red tips that reaches my mid-back and icy blue eyes like limpid tears and a lot of people tell me I look like Amy Lee (AN: if u don't know who she is get da hell out of here!). I'm not related to Gerard Way but I wish I was because he's a major fucking hottie. I’m a vampire but my teeth are straight and white. I have pale white skin. I'm also a witch, and I go to a magic school called Hogwarts in England where I'm in the seventh year (I’m seventeen). I'm a goth (in case you couldn't tell) and I wear mostly black. I love Hot Topic and I buy all my clothes from there. For example today I was wearing a black corset with matching lace around it and a black leather miniskirt, pink fishnets and black combat boots. I was wearing black lipstick, white foundation, black eyeliner and red eye shadow. I was walking outside Hogwarts. It was snowing and raining so there was no sun, which I was very happy about. A lot of preps stared at me. I put up my middle finger at them.\n",
      "\n",
      "“Hey Ebony!” shouted a voice. I looked up. It was…. Draco Malfoy!\n",
      "\n",
      "“What's up Draco?” I asked.\n",
      "\n",
      "“Nothing.” he said shyly.\n",
      "\n",
      "But then, I heard my friends call me and I had to go away.\n",
      "\n",
      "AN: IS it good? PLZ tell me fangz!\n"
     ]
    }
   ],
   "source": [
    "fanfic = open(\"text2.txt\", \"r\", encoding='utf8')\n",
    "print(fanfic.read())"
   ]
  },
  {
   "cell_type": "markdown",
   "id": "002731d6",
   "metadata": {},
   "source": [
    "### Let's do a line-by-line text comparison!"
   ]
  },
  {
   "cell_type": "code",
   "execution_count": 39,
   "id": "2f2396b2",
   "metadata": {},
   "outputs": [
    {
     "name": "stdout",
     "output_type": "stream",
     "text": [
      "Functional impairments in cognition are frequently thought to be a feature of individuals with depression or anxiety. However, documented impairments are both broad and inconsistent, with little known about when they emerge, whether they are causes or effects \n"
     ]
    }
   ],
   "source": [
    "paper = open(\"text1.txt\", \"r\", encoding='utf8')\n",
    "p_line = paper.readline(260)\n",
    "print(p_line)\n",
    "paper.close()"
   ]
  },
  {
   "cell_type": "code",
   "execution_count": 41,
   "id": "778d4e92",
   "metadata": {},
   "outputs": [
    {
     "name": "stdout",
     "output_type": "stream",
     "text": [
      "AN: Special fangz (get it, coz Im goffik) 2 my gf (ew not in that way) raven, bloodytearz666 4 helpin me wif da story and spelling. U rok! Justin ur da luv of my deprzzing life u rok 2! MCR ROX!\n",
      "\n"
     ]
    }
   ],
   "source": [
    "fanfic = open(\"text2.txt\", \"r\", encoding='utf8')\n",
    "f_line = fanfic.readline(260)\n",
    "print(f_line)\n",
    "fanfic.close()"
   ]
  },
  {
   "cell_type": "markdown",
   "id": "1f38a52b",
   "metadata": {},
   "source": [
    "### Pretty similar, right? But let's be a little more scientific about this."
   ]
  },
  {
   "cell_type": "code",
   "execution_count": 42,
   "id": "ea7ab953",
   "metadata": {},
   "outputs": [],
   "source": [
    "def clean_input(text):\n",
    "    word_list = text.split(\" \")\n",
    "    clean_word_list = []\n",
    "    for word in word_list:\n",
    "        if word.isalnum():\n",
    "            clean_word_list.append(word.lower())\n",
    "    return clean_word_list"
   ]
  },
  {
   "cell_type": "code",
   "execution_count": 43,
   "id": "7f147121",
   "metadata": {},
   "outputs": [
    {
     "data": {
      "text/plain": [
       "['functional',\n",
       " 'impairments',\n",
       " 'in',\n",
       " 'cognition',\n",
       " 'are',\n",
       " 'frequently',\n",
       " 'thought',\n",
       " 'to',\n",
       " 'be',\n",
       " 'a',\n",
       " 'feature',\n",
       " 'of',\n",
       " 'individuals',\n",
       " 'with',\n",
       " 'depression',\n",
       " 'or',\n",
       " 'documented',\n",
       " 'impairments',\n",
       " 'are',\n",
       " 'both',\n",
       " 'broad',\n",
       " 'and',\n",
       " 'with',\n",
       " 'little',\n",
       " 'known',\n",
       " 'about',\n",
       " 'when',\n",
       " 'they',\n",
       " 'whether',\n",
       " 'they',\n",
       " 'are',\n",
       " 'causes',\n",
       " 'or',\n",
       " 'effects']"
      ]
     },
     "execution_count": 43,
     "metadata": {},
     "output_type": "execute_result"
    }
   ],
   "source": [
    "p_list = clean_input(p_line)\n",
    "p_list"
   ]
  },
  {
   "cell_type": "code",
   "execution_count": 44,
   "id": "9f0c378d",
   "metadata": {},
   "outputs": [
    {
     "data": {
      "text/plain": [
       "['special',\n",
       " 'fangz',\n",
       " 'coz',\n",
       " 'im',\n",
       " '2',\n",
       " 'my',\n",
       " 'gf',\n",
       " 'not',\n",
       " 'in',\n",
       " 'that',\n",
       " 'bloodytearz666',\n",
       " '4',\n",
       " 'helpin',\n",
       " 'me',\n",
       " 'wif',\n",
       " 'da',\n",
       " 'story',\n",
       " 'and',\n",
       " 'u',\n",
       " 'justin',\n",
       " 'ur',\n",
       " 'da',\n",
       " 'luv',\n",
       " 'of',\n",
       " 'my',\n",
       " 'deprzzing',\n",
       " 'life',\n",
       " 'u',\n",
       " 'rok',\n",
       " 'mcr']"
      ]
     },
     "execution_count": 44,
     "metadata": {},
     "output_type": "execute_result"
    }
   ],
   "source": [
    "f_list = clean_input(f_line)\n",
    "f_list"
   ]
  },
  {
   "cell_type": "code",
   "execution_count": 46,
   "id": "f2e26fe6",
   "metadata": {},
   "outputs": [
    {
     "data": {
      "text/plain": [
       "['in', 'of', 'and']"
      ]
     },
     "execution_count": 46,
     "metadata": {},
     "output_type": "execute_result"
    }
   ],
   "source": [
    "# match_tally = 0\n",
    "match_list = []\n",
    "\n",
    "for i in p_list:\n",
    "    for j in f_list:\n",
    "        if i == j:\n",
    "#             match_tally+=1\n",
    "            match_list.append(i)\n",
    "            \n",
    "# match_tally\n",
    "match_list"
   ]
  },
  {
   "cell_type": "code",
   "execution_count": 47,
   "id": "2d77ef6b",
   "metadata": {},
   "outputs": [
    {
     "data": {
      "text/plain": [
       "3"
      ]
     },
     "execution_count": 47,
     "metadata": {},
     "output_type": "execute_result"
    }
   ],
   "source": [
    "len(match_list)"
   ]
  },
  {
   "cell_type": "code",
   "execution_count": 48,
   "id": "b364beb0",
   "metadata": {},
   "outputs": [
    {
     "data": {
      "text/plain": [
       "34"
      ]
     },
     "execution_count": 48,
     "metadata": {},
     "output_type": "execute_result"
    }
   ],
   "source": [
    "len(p_list)"
   ]
  },
  {
   "cell_type": "markdown",
   "id": "ad1b1bbe",
   "metadata": {},
   "source": [
    "### As we see above, 3 words out of the 34 from the sample of this paper matched a 2006 Harry Potter fan fiction.\n",
    "\n",
    "### If that doesn't sound concerning to you, let's plot a pie chart."
   ]
  },
  {
   "cell_type": "code",
   "execution_count": 56,
   "id": "0bf60917",
   "metadata": {},
   "outputs": [
    {
     "data": {
      "image/png": "[encoded data removed]",
      "text/plain": [
       "<Figure size 640x480 with 1 Axes>"
      ]
     },
     "metadata": {},
     "output_type": "display_data"
    }
   ],
   "source": [
    "numbers = np.array([3, (34-3)])\n",
    "legend = [\"matches\", \"non-matches\"]\n",
    "colours = [\"#210A09\", \"#A11D1D\"]\n",
    "\n",
    "plt.pie(numbers, labels = legend, colors = colours)\n",
    "plt.show()"
   ]
  },
  {
   "cell_type": "markdown",
   "id": "695f3e0e",
   "metadata": {},
   "source": [
    "### See, it should look a little more alarming to you, now. Because it's red."
   ]
  },
  {
   "cell_type": "code",
   "execution_count": null,
   "id": "02ed906a",
   "metadata": {},
   "outputs": [],
   "source": []
  }
 ],
 "metadata": {
  "kernelspec": {
   "display_name": "Python 3 (ipykernel)",
   "language": "python",
   "name": "python3"
  },
  "language_info": {
   "codemirror_mode": {
    "name": "ipython",
    "version": 3
   },
   "file_extension": ".py",
   "mimetype": "text/x-python",
   "name": "python",
   "nbconvert_exporter": "python",
   "pygments_lexer": "ipython3",
   "version": "3.10.6"
  }
 },
 "nbformat": 4,
 "nbformat_minor": 5
}
