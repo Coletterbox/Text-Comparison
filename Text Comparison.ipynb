{
 "cells": [
  {
   "cell_type": "markdown",
   "id": "1062482e",
   "metadata": {},
   "source": [
    "# Here is a text comparison of two pieces of literature."
   ]
  },
  {
   "cell_type": "markdown",
   "id": "a51726aa",
   "metadata": {},
   "source": [
    "### Here's the first one."
   ]
  },
  {
   "cell_type": "code",
   "execution_count": 17,
   "id": "bcfa0926",
   "metadata": {},
   "outputs": [
    {
     "name": "stdout",
     "output_type": "stream",
     "text": [
      "Functional impairments in cognition are frequently thought to be a feature of individuals with depression or anxiety. However, documented impairments are both broad and inconsistent, with little known about when they emerge, whether they are causes or effects of affective symptoms, or whether specific cognitive systems are implicated. Here, we show, in the adolescent ABCD cohort (N = 11,876), that attention dysregulation is a robust factor underlying wide-ranging cognitive task impairments seen in adolescents with moderate to severe anxiety or low mood. We stratified individuals high in DSM-oriented depression or anxiety symptomology, and low in attention deficit hyperactivity disorder (ADHD), as well as vice versa – demonstrating that those high in depression or anxiety dimensions but low in ADHD symptoms not only exhibited normal task performance across several commonly studied cognitive paradigms, but out-performed controls in several domains, as well as in those low in both dimensions. Similarly, we showed that there were no associations between psychopathological dimensions and performance on an extensive cognitive battery after controlling for attention dysregulation. Further, corroborating previous research, the co-occurrence of attention dysregulation was associated with a wide range of other adverse outcomes, psychopathological features, and executive functioning (EF) impairments. To assess how attention dysregulation relates to and generates diverse psychopathology, we performed confirmatory and exploratory network analysis with different analytic approaches using Gaussian Graphical Models and Directed Acyclic Graphs to examine interactions between ADHD, anxiety, low mood, oppositional defiant disorder (ODD), social relationships, and cognition. Confirmatory centrality analysis indicated that features of attention dysregulation were indeed central and robustly connected to a wide range of psychopathological traits across different categories, scales, and time points. Exploratory network analysis indicated potentially important bridging traits and socioenvironmental influences in the relationships between ADHD symptoms and mood/anxiety disorders. Trait perfectionism was uniquely associated with both better cognitive performance and broad psychopathological dimensions. This work suggests that attentional dysregulation may moderate the breadth of EF, fluid, and crystalized cognitive task outcomes seen in adolescents with anxiety and low mood, and may be central to disparate pathological features, and thus a target for attenuating wide-ranging negative developmental outcomes.\n"
     ]
    }
   ],
   "source": [
    "paper = open(\"text1.txt\", \"r\", encoding='utf8')\n",
    "print(paper.read())"
   ]
  },
  {
   "cell_type": "code",
   "execution_count": 13,
   "id": "7550e137",
   "metadata": {},
   "outputs": [],
   "source": [
    "paper.close()"
   ]
  },
  {
   "cell_type": "markdown",
   "id": "47d35d3b",
   "metadata": {},
   "source": [
    "### Does it sound familiar? Yes probably!\n",
    "\n",
    "### You guessed it; that's because it borrows heavily from the 2006 Harry Potter fanfic \"My Immortal\"!"
   ]
  },
  {
   "cell_type": "code",
   "execution_count": 4,
   "id": "12f94fd0",
   "metadata": {},
   "outputs": [
    {
     "name": "stdout",
     "output_type": "stream",
     "text": [
      "AN: Special fangz (get it, coz Im goffik) 2 my gf (ew not in that way) raven, bloodytearz666 4 helpin me wif da story and spelling. U rok! Justin ur da luv of my deprzzing life u rok 2! MCR ROX!\n",
      "\n",
      "XXXXXXXXXXXXXXXXXXXXXXXXXXXXXXXXXXXXXXXX\n",
      "\n",
      "Hi my name is Ebony Dark'ness Dementia Raven Way and I have long ebony black hair (that's how I got my name) with purple streaks and red tips that reaches my mid-back and icy blue eyes like limpid tears and a lot of people tell me I look like Amy Lee (AN: if u don't know who she is get da hell out of here!). I'm not related to Gerard Way but I wish I was because he's a major fucking hottie. I’m a vampire but my teeth are straight and white. I have pale white skin. I'm also a witch, and I go to a magic school called Hogwarts in England where I'm in the seventh year (I’m seventeen). I'm a goth (in case you couldn't tell) and I wear mostly black. I love Hot Topic and I buy all my clothes from there. For example today I was wearing a black corset with matching lace around it and a black leather miniskirt, pink fishnets and black combat boots. I was wearing black lipstick, white foundation, black eyeliner and red eye shadow. I was walking outside Hogwarts. It was snowing and raining so there was no sun, which I was very happy about. A lot of preps stared at me. I put up my middle finger at them.\n",
      "\n",
      "“Hey Ebony!” shouted a voice. I looked up. It was…. Draco Malfoy!\n",
      "\n",
      "“What's up Draco?” I asked.\n",
      "\n",
      "“Nothing.” he said shyly.\n",
      "\n",
      "But then, I heard my friends call me and I had to go away.\n",
      "\n",
      "XXXXXXXXXXXXXXXXXXXXXXXXXXXXXXXXXXXXXXXXXXXXXXXX\n",
      "\n",
      "AN: IS it good? PLZ tell me fangz!\n"
     ]
    }
   ],
   "source": [
    "fanfic = open(\"text2.txt\", \"r\", encoding='utf8')\n",
    "print(fanfic.read())"
   ]
  },
  {
   "cell_type": "markdown",
   "id": "8b0d89dd",
   "metadata": {},
   "source": [
    "### Let's do a line-by-line text comparison!"
   ]
  },
  {
   "cell_type": "code",
   "execution_count": 20,
   "id": "d415c528",
   "metadata": {},
   "outputs": [
    {
     "name": "stdout",
     "output_type": "stream",
     "text": [
      "Functional impairments in cognition are frequently thought to be a feature of individuals with depression or anxiety. However, documented impairments are both broad and inconsistent, with little known about when they emerge, whether they are causes or effects of affective symptoms, or whether specific cognitive systems are implicated. Here, we show, in the adolescent ABCD cohort (N = 11,876), that attention dysregulation is a robust factor underlying wide-ranging cognitive task impairments seen \n"
     ]
    }
   ],
   "source": [
    "paper = open(\"text1.txt\", \"r\", encoding='utf8')\n",
    "p_line = paper.readline(500)\n",
    "print(p_line)\n",
    "paper.close()"
   ]
  },
  {
   "cell_type": "code",
   "execution_count": 21,
   "id": "55a2e951",
   "metadata": {},
   "outputs": [
    {
     "name": "stdout",
     "output_type": "stream",
     "text": [
      "AN: Special fangz (get it, coz Im goffik) 2 my gf (ew not in that way) raven, bloodytearz666 4 helpin me wif da story and spelling. U rok! Justin ur da luv of my deprzzing life u rok 2! MCR ROX!\n",
      "\n"
     ]
    }
   ],
   "source": [
    "fanfic = open(\"text2.txt\", \"r\", encoding='utf8')\n",
    "f_line = fanfic.readline(500)\n",
    "print(f_line)\n",
    "fanfic.close()"
   ]
  },
  {
   "cell_type": "markdown",
   "id": "45ac1f81",
   "metadata": {},
   "source": [
    "### Pretty similar, right? But let's be a little more scientific about this."
   ]
  },
  {
   "cell_type": "code",
   "execution_count": 26,
   "id": "eaa50299",
   "metadata": {},
   "outputs": [],
   "source": [
    "def clean_input(text):\n",
    "    word_list = text.split(\" \")\n",
    "    clean_word_list = []\n",
    "    for word in word_list:\n",
    "        clean_word_list.append(word.lower())\n",
    "    return clean_word_list"
   ]
  },
  {
   "cell_type": "code",
   "execution_count": 27,
   "id": "fe16a936",
   "metadata": {},
   "outputs": [
    {
     "data": {
      "text/plain": [
       "['functional',\n",
       " 'impairments',\n",
       " 'in',\n",
       " 'cognition',\n",
       " 'are',\n",
       " 'frequently',\n",
       " 'thought',\n",
       " 'to',\n",
       " 'be',\n",
       " 'a',\n",
       " 'feature',\n",
       " 'of',\n",
       " 'individuals',\n",
       " 'with',\n",
       " 'depression',\n",
       " 'or',\n",
       " 'anxiety.',\n",
       " 'however,',\n",
       " 'documented',\n",
       " 'impairments',\n",
       " 'are',\n",
       " 'both',\n",
       " 'broad',\n",
       " 'and',\n",
       " 'inconsistent,',\n",
       " 'with',\n",
       " 'little',\n",
       " 'known',\n",
       " 'about',\n",
       " 'when',\n",
       " 'they',\n",
       " 'emerge,',\n",
       " 'whether',\n",
       " 'they',\n",
       " 'are',\n",
       " 'causes',\n",
       " 'or',\n",
       " 'effects',\n",
       " 'of',\n",
       " 'affective',\n",
       " 'symptoms,',\n",
       " 'or',\n",
       " 'whether',\n",
       " 'specific',\n",
       " 'cognitive',\n",
       " 'systems',\n",
       " 'are',\n",
       " 'implicated.',\n",
       " 'here,',\n",
       " 'we',\n",
       " 'show,',\n",
       " 'in',\n",
       " 'the',\n",
       " 'adolescent',\n",
       " 'abcd',\n",
       " 'cohort',\n",
       " '(n\\u2009=\\u200911,876),',\n",
       " 'that',\n",
       " 'attention',\n",
       " 'dysregulation',\n",
       " 'is',\n",
       " 'a',\n",
       " 'robust',\n",
       " 'factor',\n",
       " 'underlying',\n",
       " 'wide-ranging',\n",
       " 'cognitive',\n",
       " 'task',\n",
       " 'impairments',\n",
       " 'seen',\n",
       " '']"
      ]
     },
     "execution_count": 27,
     "metadata": {},
     "output_type": "execute_result"
    }
   ],
   "source": [
    "p_list = clean_input(p_line)\n",
    "p_list"
   ]
  },
  {
   "cell_type": "code",
   "execution_count": null,
   "id": "50563939",
   "metadata": {},
   "outputs": [],
   "source": []
  }
 ],
 "metadata": {
  "kernelspec": {
   "display_name": "Python 3 (ipykernel)",
   "language": "python",
   "name": "python3"
  },
  "language_info": {
   "codemirror_mode": {
    "name": "ipython",
    "version": 3
   },
   "file_extension": ".py",
   "mimetype": "text/x-python",
   "name": "python",
   "nbconvert_exporter": "python",
   "pygments_lexer": "ipython3",
   "version": "3.10.6"
  }
 },
 "nbformat": 4,
 "nbformat_minor": 5
}
