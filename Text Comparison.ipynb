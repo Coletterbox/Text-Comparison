{
 "cells": [
  {
   "cell_type": "markdown",
   "id": "8dab60e5",
   "metadata": {},
   "source": []
  },
  {
   "cell_type": "code",
   "execution_count": 1,
   "id": "726acc71",
   "metadata": {},
   "outputs": [
    {
     "name": "stdout",
     "output_type": "stream",
     "text": [
      "Functional impairments in cognition are frequently thought to be a feature of individuals with depression or anxiety. However, documented impairments are both broad and inconsistent, with little known about when they emerge, whether they are causes or effects of affective symptoms, or whether specific cognitive systems are implicated. Here, we show, in the adolescent ABCD cohort (Nâ€‰=â€‰11,876), that attention dysregulation is a robust factor underlying wide-ranging cognitive task impairments seen in adolescents with moderate to severe anxiety or low mood. We stratified individuals high in DSM-oriented depression or anxiety symptomology, and low in attention deficit hyperactivity disorder (ADHD), as well as vice versa â€“ demonstrating that those high in depression or anxiety dimensions but low in ADHD symptoms not only exhibited normal task performance across several commonly studied cognitive paradigms, but out-performed controls in several domains, as well as in those low in both dimensions. Similarly, we showed that there were no associations between psychopathological dimensions and performance on an extensive cognitive battery after controlling for attention dysregulation. Further, corroborating previous research, the co-occurrence of attention dysregulation was associated with a wide range of other adverse outcomes, psychopathological features, and executive functioning (EF) impairments. To assess how attention dysregulation relates to and generates diverse psychopathology, we performed confirmatory and exploratory network analysis with different analytic approaches using Gaussian Graphical Models and Directed Acyclic Graphs to examine interactions between ADHD, anxiety, low mood, oppositional defiant disorder (ODD), social relationships, and cognition. Confirmatory centrality analysis indicated that features of attention dysregulation were indeed central and robustly connected to a wide range of psychopathological traits across different categories, scales, and time points. Exploratory network analysis indicated potentially important bridging traits and socioenvironmental influences in the relationships between ADHD symptoms and mood/anxiety disorders. Trait perfectionism was uniquely associated with both better cognitive performance and broad psychopathological dimensions. This work suggests that attentional dysregulation may moderate the breadth of EF, fluid, and crystalized cognitive task outcomes seen in adolescents with anxiety and low mood, and may be central to disparate pathological features, and thus a target for attenuating wide-ranging negative developmental outcomes.\n"
     ]
    }
   ],
   "source": [
    "paper = open(\"text1.txt\", \"r\")\n",
    "print(paper.read())"
   ]
  },
  {
   "cell_type": "code",
   "execution_count": 4,
   "id": "ab804e62",
   "metadata": {},
   "outputs": [
    {
     "name": "stdout",
     "output_type": "stream",
     "text": [
      "AN: Special fangz (get it, coz Im goffik) 2 my gf (ew not in that way) raven, bloodytearz666 4 helpin me wif da story and spelling. U rok! Justin ur da luv of my deprzzing life u rok 2! MCR ROX!\n",
      "\n",
      "XXXXXXXXXXXXXXXXXXXXXXXXXXXXXXXXXXXXXXXX\n",
      "\n",
      "Hi my name is Ebony Dark'ness Dementia Raven Way and I have long ebony black hair (that's how I got my name) with purple streaks and red tips that reaches my mid-back and icy blue eyes like limpid tears and a lot of people tell me I look like Amy Lee (AN: if u don't know who she is get da hell out of here!). I'm not related to Gerard Way but I wish I was because he's a major fucking hottie. I’m a vampire but my teeth are straight and white. I have pale white skin. I'm also a witch, and I go to a magic school called Hogwarts in England where I'm in the seventh year (I’m seventeen). I'm a goth (in case you couldn't tell) and I wear mostly black. I love Hot Topic and I buy all my clothes from there. For example today I was wearing a black corset with matching lace around it and a black leather miniskirt, pink fishnets and black combat boots. I was wearing black lipstick, white foundation, black eyeliner and red eye shadow. I was walking outside Hogwarts. It was snowing and raining so there was no sun, which I was very happy about. A lot of preps stared at me. I put up my middle finger at them.\n",
      "\n",
      "“Hey Ebony!” shouted a voice. I looked up. It was…. Draco Malfoy!\n",
      "\n",
      "“What's up Draco?” I asked.\n",
      "\n",
      "“Nothing.” he said shyly.\n",
      "\n",
      "But then, I heard my friends call me and I had to go away.\n",
      "\n",
      "XXXXXXXXXXXXXXXXXXXXXXXXXXXXXXXXXXXXXXXXXXXXXXXX\n",
      "\n",
      "AN: IS it good? PLZ tell me fangz!\n"
     ]
    }
   ],
   "source": [
    "fanfic = open(\"text2.txt\", \"r\", encoding='utf8')\n",
    "print(fanfic.read())"
   ]
  },
  {
   "cell_type": "code",
   "execution_count": null,
   "id": "9b12f95a",
   "metadata": {},
   "outputs": [],
   "source": []
  }
 ],
 "metadata": {
  "kernelspec": {
   "display_name": "Python 3 (ipykernel)",
   "language": "python",
   "name": "python3"
  },
  "language_info": {
   "codemirror_mode": {
    "name": "ipython",
    "version": 3
   },
   "file_extension": ".py",
   "mimetype": "text/x-python",
   "name": "python",
   "nbconvert_exporter": "python",
   "pygments_lexer": "ipython3",
   "version": "3.10.6"
  }
 },
 "nbformat": 4,
 "nbformat_minor": 5
}
